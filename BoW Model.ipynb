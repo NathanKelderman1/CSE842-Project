{
 "cells": [
  {
   "cell_type": "code",
   "execution_count": 2,
   "id": "2e8a019c",
   "metadata": {},
   "outputs": [],
   "source": [
    "import re\n",
    "import numpy as np\n",
    "import pandas as pd\n",
    "import matplotlib.ticker as ticker\n",
    "import warnings\n",
    "import scipy.stats\n",
    "from sklearn.model_selection import train_test_split\n",
    "import matplotlib.pyplot as plt\n",
    "from keras.models import Sequential, load_model\n",
    "from keras.layers import Dense, LSTM, Embedding, Dropout\n",
    "from keras.preprocessing.text import Tokenizer\n",
    "from keras.preprocessing.sequence import pad_sequences\n",
    "from nltk.corpus import stopwords\n",
    "from time import sleep\n",
    "import sys\n",
    "from sklearn.metrics import confusion_matrix\n",
    "from scipy import sparse as sp_sparse\n",
    "from sklearn.feature_extraction.text import TfidfVectorizer\n",
    "from sklearn.multiclass import OneVsRestClassifier\n",
    "from sklearn.linear_model import LogisticRegression\n",
    "from sklearn.metrics import accuracy_score\n",
    "from sklearn.metrics import f1_score\n",
    "from sklearn.metrics import roc_auc_score \n",
    "from sklearn.metrics import average_precision_score\n",
    "from sklearn.metrics import recall_score\n",
    "import sklearn.feature_selection as fs\n",
    "from sklearn.model_selection import KFold\n",
    "from sklearn.model_selection import cross_val_score\n",
    "\n",
    "warnings.filterwarnings('ignore')"
   ]
  },
  {
   "cell_type": "code",
   "execution_count": 3,
   "id": "51a0d2ea",
   "metadata": {},
   "outputs": [
    {
     "data": {
      "text/html": [
       "<div>\n",
       "<style scoped>\n",
       "    .dataframe tbody tr th:only-of-type {\n",
       "        vertical-align: middle;\n",
       "    }\n",
       "\n",
       "    .dataframe tbody tr th {\n",
       "        vertical-align: top;\n",
       "    }\n",
       "\n",
       "    .dataframe thead th {\n",
       "        text-align: right;\n",
       "    }\n",
       "</style>\n",
       "<table border=\"1\" class=\"dataframe\">\n",
       "  <thead>\n",
       "    <tr style=\"text-align: right;\">\n",
       "      <th></th>\n",
       "      <th>Anonymized Message</th>\n",
       "      <th>Valence</th>\n",
       "      <th>Arousal</th>\n",
       "    </tr>\n",
       "  </thead>\n",
       "  <tbody>\n",
       "    <tr>\n",
       "      <th>0</th>\n",
       "      <td>What's on your mind?September is cancer month....</td>\n",
       "      <td>5.0</td>\n",
       "      <td>3.0</td>\n",
       "    </tr>\n",
       "    <tr>\n",
       "      <th>1</th>\n",
       "      <td>i dont get this shitt</td>\n",
       "      <td>4.0</td>\n",
       "      <td>2.0</td>\n",
       "    </tr>\n",
       "    <tr>\n",
       "      <th>2</th>\n",
       "      <td>I've got a soul that cannot sleep\\ ! :D\\\"\"</td>\n",
       "      <td>6.0</td>\n",
       "      <td>5.0</td>\n",
       "    </tr>\n",
       "    <tr>\n",
       "      <th>3</th>\n",
       "      <td>Just spent two hours cleaning out the basement...</td>\n",
       "      <td>4.0</td>\n",
       "      <td>4.0</td>\n",
       "    </tr>\n",
       "    <tr>\n",
       "      <th>4</th>\n",
       "      <td>HAPPY BIRTHDAY &lt;PERSON&gt; love ya i hope u have ...</td>\n",
       "      <td>7.0</td>\n",
       "      <td>4.0</td>\n",
       "    </tr>\n",
       "  </tbody>\n",
       "</table>\n",
       "</div>"
      ],
      "text/plain": [
       "                                  Anonymized Message  Valence  Arousal\n",
       "0  What's on your mind?September is cancer month....      5.0      3.0\n",
       "1                              i dont get this shitt      4.0      2.0\n",
       "2         I've got a soul that cannot sleep\\ ! :D\\\"\"      6.0      5.0\n",
       "3  Just spent two hours cleaning out the basement...      4.0      4.0\n",
       "4  HAPPY BIRTHDAY <PERSON> love ya i hope u have ...      7.0      4.0"
      ]
     },
     "execution_count": 3,
     "metadata": {},
     "output_type": "execute_result"
    }
   ],
   "source": [
    "headers = ['Anonymized Message', 'Valence', 'Arousal']\n",
    "dtypes = {'Anonymized Message':'str', 'Valence':'float', 'Arousal':'float'}\n",
    "data = pd.read_csv(\"small_data.csv\", encoding='utf8', skiprows=[0], names=headers, dtype=dtypes, na_filter=False)\n",
    "data = data.sample(frac=1).reset_index(drop=True)\n",
    "data.head()"
   ]
  },
  {
   "cell_type": "code",
   "execution_count": 5,
   "id": "1e049db5",
   "metadata": {},
   "outputs": [],
   "source": [
    "# set all words to lowercase and remove anything that isn't a letter or space\n",
    "data['Anonymized Message'] = data['Anonymized Message'].apply(lambda x: x.lower()) #transform text to lowercase\n",
    "# data['Anonymized Message'] = data['Anonymized Message'].apply(lambda x: re.sub('[^a-zA-z0-9\\s]', '', x))\n",
    "# data['Anonymized Message'] = data['Anonymized Message'].apply(lambda x: re.sub('[_\\\\/(){}\\[\\]\\|@,;]', '', x))\n",
    "\n",
    "# find and remove all stop words\n",
    "stop = stopwords.words('english')\n",
    "data['Anonymized Message'] = data['Anonymized Message'].apply(lambda x: ' '.join([word for word in x.split() if word not in (stop)]))"
   ]
  },
  {
   "cell_type": "code",
   "execution_count": 6,
   "id": "ea27c0a8",
   "metadata": {},
   "outputs": [
    {
     "data": {
      "text/plain": [
       "['get', 'like', 'love', '<person>', 'got', \"i'm\", 'day', 'one', 'go', ':)']"
      ]
     },
     "execution_count": 6,
     "metadata": {},
     "output_type": "execute_result"
    }
   ],
   "source": [
    "# Dictionary of all words from train corpus with their counts.\n",
    "words_counts = {}\n",
    "for comments in data['Anonymized Message']:\n",
    "    for word in comments.split():\n",
    "        if word not in words_counts:\n",
    "            words_counts[word] = 1\n",
    "        words_counts[word] += 1\n",
    "        \n",
    "DICT_SIZE = 5000\n",
    "POPULAR_WORDS = sorted(words_counts, key=words_counts.get, reverse=True)[:DICT_SIZE]\n",
    "WORDS_TO_INDEX = {key: rank for rank, key in enumerate(POPULAR_WORDS, 0)}\n",
    "INDEX_TO_WORDS = {index:word for word, index in WORDS_TO_INDEX.items()}\n",
    "ALL_WORDS = WORDS_TO_INDEX.keys()\n",
    "POPULAR_WORDS[:10]"
   ]
  },
  {
   "cell_type": "code",
   "execution_count": 7,
   "id": "4916af11",
   "metadata": {},
   "outputs": [
    {
     "name": "stdout",
     "output_type": "stream",
     "text": [
      "(2895, 5000)\n"
     ]
    }
   ],
   "source": [
    "\n",
    "def my_bag_of_words(text, words_to_index, dict_size):\n",
    "    \"\"\"\n",
    "        text: a string\n",
    "        dict_size: size of the dictionary\n",
    "        \n",
    "        return a vector which is a bag-of-words representation of 'text'\n",
    "    \"\"\"\n",
    "    result_vector = np.zeros(dict_size)\n",
    "    for word in text.split(' '):\n",
    "        if word in words_to_index:\n",
    "            result_vector[words_to_index[word]] +=1\n",
    "    return result_vector\n",
    "\n",
    "BoW = (my_bag_of_words(text, WORDS_TO_INDEX, DICT_SIZE) for text in data['Anonymized Message'])\n",
    "BoW = pd.DataFrame(BoW)\n",
    "print(BoW.shape)"
   ]
  },
  {
   "cell_type": "code",
   "execution_count": 8,
   "id": "22edd109",
   "metadata": {},
   "outputs": [
    {
     "name": "stdout",
     "output_type": "stream",
     "text": [
      "(2605, 5000)\n",
      "(2605,)\n",
      "(290,)\n",
      "R:  7.582367700272466e-07\n",
      "(2605, 5000)\n",
      "(2605,)\n",
      "(290,)\n",
      "R:  2.5223388729709082e-05\n",
      "(2605, 5000)\n",
      "(2605,)\n",
      "(290,)\n",
      "R:  0.002608264201986658\n",
      "(2605, 5000)\n",
      "(2605,)\n",
      "(290,)\n",
      "R:  0.007932926733308542\n",
      "(2605, 5000)\n",
      "(2605,)\n",
      "(290,)\n",
      "R:  7.612101967573542e-06\n",
      "(2606, 5000)\n",
      "(2606,)\n",
      "(289,)\n",
      "R:  4.461576496106855e-05\n",
      "(2606, 5000)\n",
      "(2606,)\n",
      "(289,)\n",
      "R:  0.0002084399479372105\n",
      "(2606, 5000)\n",
      "(2606,)\n",
      "(289,)\n",
      "R:  1.0515730006083193e-06\n",
      "(2606, 5000)\n",
      "(2606,)\n",
      "(289,)\n",
      "R:  0.002164185533833498\n",
      "(2606, 5000)\n",
      "(2606,)\n",
      "(289,)\n",
      "R:  0.0007253666385932475\n"
     ]
    }
   ],
   "source": [
    "k = 10\n",
    "kf = KFold(n_splits=k, random_state=None)\n",
    "model = LogisticRegression(penalty='l2', C=4, max_iter=10000)\n",
    "\n",
    "\n",
    "for train_index, test_index in kf.split(data['Anonymized Message']):\n",
    "    X_train, X_test = BoW.iloc[train_index,:], BoW.iloc[test_index,:]\n",
    "    y_train, y_test = data['Arousal'].iloc[train_index], data['Arousal'].iloc[test_index]\n",
    "    \n",
    "    print(X_train.shape)\n",
    "    print(y_train.shape)\n",
    "    print(y_test.shape)\n",
    "    model.fit(X_train, y_train)\n",
    "    \n",
    "    pred_values = model.predict(X_test)\n",
    "    print('R: ', scipy.stats.pearsonr(pred_values, y_test)[1])"
   ]
  },
  {
   "cell_type": "code",
   "execution_count": 90,
   "id": "321ba87d",
   "metadata": {},
   "outputs": [
    {
     "name": "stdout",
     "output_type": "stream",
     "text": [
      "Bag-of-words\n",
      "\n",
      "Accuracy:  470\n",
      "F1-score macro:  0.15212009608041793\n",
      "F1-score micro:  0.40587219343696024\n",
      "F1-score weighted:  0.3453862461894369\n",
      "R2-score:  0.01443525036042681\n"
     ]
    }
   ],
   "source": [
    "def print_evaluation_scores(y_test, predicted):\n",
    "    \n",
    "    print('Accuracy: ', accuracy_score(y_test, predicted, normalize=False))\n",
    "    print('F1-score macro: ', f1_score(y_test, predicted, average='macro'))\n",
    "    print('F1-score micro: ', f1_score(y_test, predicted, average='micro'))\n",
    "    print('F1-score weighted: ', f1_score(y_test, predicted, average='weighted'))\n",
    "    print('R2-score: ', r2_score(y_test, predicted))\n",
    "#     print('Precision macro: ', average_precision_score(y_test, predicted, average='macro'))\n",
    "#     print('Precision micro: ', average_precision_score(y_test, predicted, average='micro'))\n",
    "#     print('Precision weighted: ', average_precision_score(y_test, predicted, average='weighted'))\n",
    "    \n",
    "print('Bag-of-words\\n')\n",
    "print_evaluation_scores(y_val, y_val_predicted_labels_mybag)"
   ]
  }
 ],
 "metadata": {
  "kernelspec": {
   "display_name": "Python 3",
   "language": "python",
   "name": "python3"
  },
  "language_info": {
   "codemirror_mode": {
    "name": "ipython",
    "version": 3
   },
   "file_extension": ".py",
   "mimetype": "text/x-python",
   "name": "python",
   "nbconvert_exporter": "python",
   "pygments_lexer": "ipython3",
   "version": "3.8.8"
  }
 },
 "nbformat": 4,
 "nbformat_minor": 5
}
