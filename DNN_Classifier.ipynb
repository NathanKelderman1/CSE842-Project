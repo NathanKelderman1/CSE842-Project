{
 "cells": [
  {
   "cell_type": "code",
   "execution_count": 19,
   "metadata": {},
   "outputs": [
    {
     "name": "stdout",
     "output_type": "stream",
     "text": [
      "X:  (39657, 3)\n",
      "Y:  (39657, 2)\n"
     ]
    }
   ],
   "source": [
    "from sklearn.feature_extraction.text import CountVectorizer\n",
    "from collections import defaultdict\n",
    "import os, sys, numpy as np\n",
    "import re\n",
    "import torch\n",
    "\n",
    "#Parse data into testing and training examples\n",
    "def parse_data(line):\n",
    "    data = []\n",
    "    \n",
    "    #If line starts with a quotation mark, then there is a comma in the data and rsplit must be used\n",
    "    if line.startswith(\"\\\"\"):\n",
    "        #find the ending quotation mark to create msg substring\n",
    "        data = line.rsplit(\",\", 4)\n",
    "    else:\n",
    "        data = line.split(\",\")\n",
    "    \n",
    "    msg = data.pop(0)\n",
    "    quantifiers = data\n",
    "    return msg, quantifiers\n",
    "\n",
    "def get_Ngrams(corpora, scores, ngrams=2):\n",
    "    X = []\n",
    "    Y = []\n",
    "    word_regx = re.compile('^[a-z]*$')\n",
    "    for i in range(len(corpora)):\n",
    "        words = corpora[i].split(\" \")\n",
    "        rs = [] #regex'd sentence\n",
    "\n",
    "        #regex sentence\n",
    "        for w in words:\n",
    "            w = re.sub('[.,!?\\\\-()\\\"]', \"\", w).lower()\n",
    "            match = word_regx.match(w)\n",
    "            if match != None:\n",
    "                rs.append(w)\n",
    "\n",
    "        #make ngram out of sentence and add to output\n",
    "        if len(rs) < ngrams: #only use sentence if it has enough words for the ngram\n",
    "            continue\n",
    "        #create list of ngrams from sentence and also the cooresponding scores\n",
    "        #found the zip function from here: https://stackoverflow.com/questions/13423919/computing-n-grams-using-python\n",
    "        for j in zip(*[rs[i:] for i in range(ngrams)]):\n",
    "            X.append(j)\n",
    "            Y.append(scores[i])\n",
    "\n",
    "    return np.asarray(X), np.asarray(Y)\n",
    "\n",
    "\n",
    "#Parse data    \n",
    "data = open(\"dataset-fb-valence-arousal-anon.csv\", encoding=\"utf8\")\n",
    "data.readline()\n",
    "corpora = []\n",
    "scores = [] \n",
    "for line in data.readlines():\n",
    "    msg, quantifiers = parse_data(line)\n",
    "    v1, v2, a1, a2 = quantifiers\n",
    "    corpora.append(msg)\n",
    "    scores.append((int(v1), int(a1)))\n",
    "\n",
    "#get the ngrams\n",
    "X, Y = get_Ngrams(corpora, scores, 3)\n",
    "\n",
    "print(\"X: \", X.shape)\n",
    "print(\"Y: \", Y.shape)\n"
   ]
  }
 ],
 "metadata": {
  "interpreter": {
   "hash": "16dd1f0e6febe29089962fb2487a942d8d2b9927ae6d9b119e77798fd68476cf"
  },
  "kernelspec": {
   "display_name": "Python 3.9.7 64-bit",
   "name": "python3"
  },
  "language_info": {
   "codemirror_mode": {
    "name": "ipython",
    "version": 3
   },
   "file_extension": ".py",
   "mimetype": "text/x-python",
   "name": "python",
   "nbconvert_exporter": "python",
   "pygments_lexer": "ipython3",
   "version": "3.9.7"
  },
  "orig_nbformat": 4
 },
 "nbformat": 4,
 "nbformat_minor": 2
}
