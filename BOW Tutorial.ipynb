{
 "cells": [
  {
   "cell_type": "code",
   "execution_count": 136,
   "id": "fa97b9ee",
   "metadata": {},
   "outputs": [],
   "source": [
    "import re\n",
    "import warnings\n",
    "\n",
    "import numpy as np\n",
    "import pandas as pd\n",
    "import matplotlib.pyplot as plt\n",
    "import matplotlib.ticker as ticker\n",
    "\n",
    "from scipy.stats import pearsonr\n",
    "from nltk.corpus import stopwords\n",
    "from sklearn.model_selection import KFold\n",
    "from sklearn.metrics import accuracy_score\n",
    "from sklearn.metrics import confusion_matrix\n",
    "from sklearn.model_selection import cross_val_score\n",
    "from sklearn.linear_model import LogisticRegression\n",
    "from sklearn.model_selection import train_test_split\n",
    "from sklearn.feature_extraction.text import CountVectorizer\n",
    "\n",
    "warnings.filterwarnings('ignore')"
   ]
  },
  {
   "cell_type": "markdown",
   "id": "06d02a46",
   "metadata": {},
   "source": [
    "Load and Process Dataset"
   ]
  },
  {
   "cell_type": "code",
   "execution_count": 109,
   "id": "399b7091",
   "metadata": {},
   "outputs": [],
   "source": [
    "def get_data(headers, dtypes, filename):\n",
    "    data = pd.read_csv(filename, encoding='utf8', skiprows=[0], names=headers, dtype=dtypes, na_filter=False)\n",
    "    data = data.sample(frac=1).reset_index(drop=True)\n",
    "    return data\n",
    "\n",
    "hv = ['Anonymized Message', 'Valence']\n",
    "dtv = {'Anonymized Message':'str', 'Valence':'float'}\n",
    "v_data = get_data(hv, dtv, \"Valence_Data.csv\")\n",
    "\n",
    "ha = ['Anonymized Message', 'Arousal']\n",
    "dta = {'Anonymized Message':'str', 'Arousal':'float'}\n",
    "a_data = get_data(ha, dta, \"Arousal_Data.csv\")"
   ]
  },
  {
   "cell_type": "markdown",
   "id": "12d72ca6",
   "metadata": {},
   "source": [
    "Pre-Processing"
   ]
  },
  {
   "cell_type": "code",
   "execution_count": 110,
   "id": "aa453d3c",
   "metadata": {},
   "outputs": [],
   "source": [
    "def preprocess(messages):\n",
    "    # set all words to lowercase and remove anything that isn't a letter or space\n",
    "    messages = messages.apply(lambda x: x.lower()) #transform text to lowercase\n",
    "    messages = messages.apply(lambda x: re.sub('[^a-zA-z0-9\\s]', '', x))\n",
    "\n",
    "    # find and remove all stop words\n",
    "    stop = stopwords.words('english')\n",
    "    messages = messages.apply(lambda x: ' '.join([word for word in x.split() if word not in (stop)]))\n",
    "    return messages\n",
    "\n",
    "vX = preprocess(v_data['Anonymized Message'])\n",
    "vy = v_data['Valence']\n",
    "\n",
    "aX = preprocess(a_data['Anonymized Message'])\n",
    "ay = a_data['Arousal']\n"
   ]
  },
  {
   "cell_type": "markdown",
   "id": "affd9975",
   "metadata": {},
   "source": [
    "Create Models"
   ]
  },
  {
   "cell_type": "code",
   "execution_count": 113,
   "id": "d81b8221",
   "metadata": {},
   "outputs": [],
   "source": [
    "#split v_data into testing and training data and obtain v_bow\n",
    "vx_train, vx_test, vy_train, vy_test = train_test_split(vX, vy, test_size=0.2, random_state=0)\n",
    "vvect = CountVectorizer()\n",
    "v_model = LogisticRegression(penalty='l2', C=4, max_iter=10000)\n",
    "\n",
    "#split a_data into testing and training data and obtain a_bow\n",
    "ax_train, ax_test, ay_train, ay_test = train_test_split(aX, ay, test_size=0.2, random_state=0)\n",
    "avect = CountVectorizer()\n",
    "a_model = LogisticRegression(penalty='l2', C=4, max_iter=10000)\n"
   ]
  },
  {
   "cell_type": "markdown",
   "id": "e9694051",
   "metadata": {},
   "source": [
    "Train Models"
   ]
  },
  {
   "cell_type": "code",
   "execution_count": 114,
   "id": "99ba3b08",
   "metadata": {
    "scrolled": true
   },
   "outputs": [
    {
     "name": "stdout",
     "output_type": "stream",
     "text": [
      "Starting Valence training\n",
      "R-score: 0.913\n",
      "R-score: 0.917\n",
      "R-score: 0.930\n",
      "R-score: 0.909\n",
      "R-score: 0.941\n",
      "R-score: 0.941\n",
      "R-score: 0.914\n",
      "R-score: 0.933\n",
      "R-score: 0.917\n",
      "R-score: 0.933\n",
      "Finished Valence training. Now starting Arousal training\n",
      "R-score: 0.793\n",
      "R-score: 0.792\n",
      "R-score: 0.780\n",
      "R-score: 0.830\n",
      "R-score: 0.808\n",
      "R-score: 0.800\n",
      "R-score: 0.768\n",
      "R-score: 0.815\n",
      "R-score: 0.806\n",
      "R-score: 0.769\n"
     ]
    }
   ],
   "source": [
    "def train_model(model, vect, X, y):\n",
    "    k = 10\n",
    "    kf = KFold(n_splits=k, shuffle=True, random_state=None)\n",
    "    \n",
    "\n",
    "    for train_index, test_index in kf.split(X):\n",
    "        x_train, x_test = X.iloc[train_index], X.iloc[test_index]\n",
    "        y_train, y_test = y.iloc[train_index], y.iloc[test_index]\n",
    "        \n",
    "        x_train = vect.fit_transform(x_train)\n",
    "        x_test = vect.transform(x_test)\n",
    "\n",
    "        model.fit(x_train, y_train)\n",
    "\n",
    "\n",
    "        pred = model.predict(x_test)\n",
    "        rs = pearsonr(pred, y_test)\n",
    "\n",
    "        print(\"R-score: %.3f\" % rs[0])\n",
    "    \n",
    "    return model\n",
    "\n",
    "print(\"Starting Valence training\")\n",
    "v_model = train_model(v_model, vvect, vx_train, vy_train)\n",
    "\n",
    "print(\"Finished Valence training. Now starting Arousal training\")\n",
    "a_model = train_model(a_model, avect, ax_train, ay_train)"
   ]
  },
  {
   "cell_type": "code",
   "execution_count": 142,
   "id": "85cdc086",
   "metadata": {},
   "outputs": [
    {
     "name": "stdout",
     "output_type": "stream",
     "text": [
      "[8. 9. 3. ... 9. 6. 8.]\n",
      "Model has an accuracy of 64.42%\n",
      "Model has a correlation coefficient of 0.94\n",
      "[[150   0   0   0   0   0   0   0   0]\n",
      " [  3 115   0   0   2   0   0   0   0]\n",
      " [  4  15  68  29   5   1   3   0   0]\n",
      " [  4  17  33  40  24  13   3   0   1]\n",
      " [  1   4   5  18  54  20  14   1   1]\n",
      " [  0   2   3   2  23  23  41  14   1]\n",
      " [  1   0   0   3   7  40  44  17  11]\n",
      " [  0   0   0   0   2   2  17 118   5]\n",
      " [  0   0   0   0   0   0   0   0 134]]\n",
      "[[150   0   0   0   0   0   0   0   0]\n",
      " [  3 115   0   0   2   0   0   0   0]\n",
      " [  4  15  68  29   5   1   3   0   0]\n",
      " [  4  17  33  40  24  13   3   0   1]\n",
      " [  1   4   5  18  54  20  14   1   1]\n",
      " [  0   2   3   2  23  23  41  14   1]\n",
      " [  1   0   0   3   7  40  44  17  11]\n",
      " [  0   0   0   0   2   2  17 118   5]\n",
      " [  0   0   0   0   0   0   0   0 134]]\n"
     ]
    },
    {
     "data": {
      "image/png": "[encoded data removed]",
      "text/plain": [
       "<Figure size 432x288 with 2 Axes>"
      ]
     },
     "metadata": {
      "needs_background": "light"
     },
     "output_type": "display_data"
    },
    {
     "name": "stdout",
     "output_type": "stream",
     "text": [
      "[9. 1. 4. ... 6. 1. 3.]\n",
      "Model has an accuracy of 39.64%\n",
      "Model has a correlation coefficient of 0.76\n",
      "[[ 51  22  18   8  16   4   3   1   1]\n",
      " [ 40  21  24  10  13  12   6   3   1]\n",
      " [ 29  21  29  28  17   6   9   3   2]\n",
      " [ 16   7  20  27  25  10   4   1   0]\n",
      " [  9   6  10  19  43  24  14   4   0]\n",
      " [  5   8   6  23  25  43  29  11   7]\n",
      " [  8   0   0   5   8  21  58  14   4]\n",
      " [  0   0   0   0   0   0  11  75  23]\n",
      " [  0   0   0   0   0   0   7  18 112]]\n",
      "[[ 51  22  18   8  16   4   3   1   1]\n",
      " [ 40  21  24  10  13  12   6   3   1]\n",
      " [ 29  21  29  28  17   6   9   3   2]\n",
      " [ 16   7  20  27  25  10   4   1   0]\n",
      " [  9   6  10  19  43  24  14   4   0]\n",
      " [  5   8   6  23  25  43  29  11   7]\n",
      " [  8   0   0   5   8  21  58  14   4]\n",
      " [  0   0   0   0   0   0  11  75  23]\n",
      " [  0   0   0   0   0   0   7  18 112]]\n"
     ]
    },
    {
     "data": {
      "image/png": "[encoded data removed]",
      "text/plain": [
       "<Figure size 432x288 with 2 Axes>"
      ]
     },
     "metadata": {
      "needs_background": "light"
     },
     "output_type": "display_data"
    }
   ],
   "source": [
    "def test_model(col, model, vect, x_test, y_test):\n",
    "    # make predictions\n",
    "    x_test = vect.transform(x_test)\n",
    "    predictions = model.predict(x_test)\n",
    "    \n",
    "    print(predictions)\n",
    "    confusion = confusion_matrix(y_test, predictions)\n",
    "    \n",
    "    r_val = pearsonr(predictions, y_test)[0]\n",
    "\n",
    "    print('Model has an accuracy of %.2f%%' % (accuracy_score(y_test, predictions) * 100))\n",
    "    print('Model has a correlation coefficient of %.2f' % r_val)\n",
    "       \n",
    "    # plot results\n",
    "    fig = plt.figure()\n",
    "    ax = fig.add_subplot(111)\n",
    "    cax = ax.matshow(confusion)\n",
    "    fig.colorbar(cax)\n",
    "    \n",
    "    categories = [1, 2, 3, 4, 5, 6, 7, 8, 9]\n",
    "    ax.set_xticklabels([''] + categories, rotation=90)\n",
    "    ax.set_yticklabels([''] + categories)\n",
    "    ax.xaxis.set_major_locator(ticker.MultipleLocator(1))\n",
    "    ax.yaxis.set_major_locator(ticker.MultipleLocator(1))\n",
    "    \n",
    "    plt.xlabel('model output')\n",
    "    plt.ylabel('actual')\n",
    "    plt.title(col)\n",
    "    \n",
    "    plt.show()\n",
    "\n",
    "test_model(\"Valence\", v_model, vvect, vx_test, vy_test)\n",
    "test_model(\"Arousal\", a_model, avect, ax_test, ay_test)"
   ]
  }
 ],
 "metadata": {
  "kernelspec": {
   "display_name": "Python 3",
   "language": "python",
   "name": "python3"
  },
  "language_info": {
   "codemirror_mode": {
    "name": "ipython",
    "version": 3
   },
   "file_extension": ".py",
   "mimetype": "text/x-python",
   "name": "python",
   "nbconvert_exporter": "python",
   "pygments_lexer": "ipython3",
   "version": "3.8.8"
  }
 },
 "nbformat": 4,
 "nbformat_minor": 5
}
