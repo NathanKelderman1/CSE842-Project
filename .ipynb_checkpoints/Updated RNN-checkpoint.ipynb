{
 "cells": [
  {
   "cell_type": "code",
   "execution_count": 29,
   "id": "13d13afd",
   "metadata": {},
   "outputs": [],
   "source": [
    "import re\n",
    "import numpy as np\n",
    "import pandas as pd\n",
    "import matplotlib.ticker as ticker\n",
    "import warnings\n",
    "import scipy.stats\n",
    "from sklearn.model_selection import train_test_split\n",
    "import matplotlib.pyplot as plt\n",
    "from keras.models import Sequential, load_model\n",
    "from keras.layers import Dense, LSTM, Embedding, Dropout\n",
    "from keras.preprocessing.text import Tokenizer\n",
    "from keras.preprocessing.sequence import pad_sequences\n",
    "from nltk.corpus import stopwords\n",
    "from time import sleep\n",
    "import sys\n",
    "\n",
    "warnings.filterwarnings('ignore')"
   ]
  },
  {
   "cell_type": "markdown",
   "id": "c5fb40d2",
   "metadata": {},
   "source": [
    "Load and Process Dataset\n",
    "\n",
    "To-do:\n",
    "- Average columns in spreadsheet to form a cohesive valence and arousal score\n",
    "- Read in new columns"
   ]
  },
  {
   "cell_type": "code",
   "execution_count": 24,
   "id": "7f392edb",
   "metadata": {
    "scrolled": true
   },
   "outputs": [],
   "source": [
    "headers = ['Anonymized Message', 'Valence1', 'Valence2', 'Arousal1', 'Arousal2']\n",
    "dtypes = {'Anonymized Message':'str', 'Valence1':'float', 'Valence2':'float', 'Arousal1':'float', 'Arousal2':'float'}\n",
    "data = pd.read_csv(\"dataset-fb-valence-arousal-anon.csv\", encoding='utf8', skiprows=[0], names=headers, dtype=dtypes, na_filter=False)\n",
    "data = data.sample(frac=1).reset_index(drop=True)"
   ]
  },
  {
   "cell_type": "markdown",
   "id": "e8d2a5c1",
   "metadata": {},
   "source": [
    "Pre-processing"
   ]
  },
  {
   "cell_type": "code",
   "execution_count": 25,
   "id": "320431b2",
   "metadata": {
    "scrolled": true
   },
   "outputs": [],
   "source": [
    "# set all words to lowercase and remove anything that isn't a letter or space\n",
    "data['Anonymized Message'].apply(lambda x: x.lower()) #transform text to lowercase\n",
    "data['Anonymized Message'] = data['Anonymized Message'].apply(lambda x: re.sub('[^a-zA-z0-9\\s]', '', x))\n",
    "\n",
    "# find and remove all stop words\n",
    "stop = stopwords.words('english')\n",
    "data['Anonymized Message'] = data['Anonymized Message'].apply(lambda x: ' '.join([word for word in x.split() if word not in (stop)]))"
   ]
  },
  {
   "cell_type": "markdown",
   "id": "3605fea6",
   "metadata": {},
   "source": [
    "Creating Model(s)\n",
    "\n",
    "To-Do\n",
    "- Define and train model for arousal\n",
    "- Redefine valence model once valence columns are merged for input"
   ]
  },
  {
   "cell_type": "code",
   "execution_count": 26,
   "id": "dace10e1",
   "metadata": {
    "scrolled": true
   },
   "outputs": [
    {
     "name": "stdout",
     "output_type": "stream",
     "text": [
      "Model: \"sequential_1\"\n",
      "_________________________________________________________________\n",
      " Layer (type)                Output Shape              Param #   \n",
      "=================================================================\n",
      " embedding_1 (Embedding)     (None, 148, 64)           320000    \n",
      "                                                                 \n",
      " dropout_1 (Dropout)         (None, 148, 64)           0         \n",
      "                                                                 \n",
      " lstm_2 (LSTM)               (None, 148, 64)           33024     \n",
      "                                                                 \n",
      " lstm_3 (LSTM)               (None, 264)               347424    \n",
      "                                                                 \n",
      " dense_1 (Dense)             (None, 9)                 2385      \n",
      "                                                                 \n",
      "=================================================================\n",
      "Total params: 702,833\n",
      "Trainable params: 702,833\n",
      "Non-trainable params: 0\n",
      "_________________________________________________________________\n"
     ]
    }
   ],
   "source": [
    "def get_model(col):\n",
    "    # setup a tokenizer to keep the most frequent 5000 words\n",
    "    tokenizer = Tokenizer(num_words=5000, split=\" \")\n",
    "    tokenizer.fit_on_texts(data['Anonymized Message'].values)\n",
    "    \n",
    "    # define input X\n",
    "    X = tokenizer.texts_to_sequences(data['Anonymized Message'].values)\n",
    "    X = pad_sequences(X) # padding our text vector so they all have the same length\n",
    "    \n",
    "    # define expected output for training and testing\n",
    "    y = pd.get_dummies(data[col]).values\n",
    "    \n",
    "    # setup and establish model with 9 outputs\n",
    "    # output will be an array of length 9. \n",
    "    # the highest output value corresponds to the model's guess\n",
    "    model = Sequential()\n",
    "    model.add(Embedding(5000, 64, input_length=X.shape[1]))\n",
    "    model.add(Dropout(0.3))\n",
    "    model.add(LSTM(64, return_sequences=True, dropout=0.3, recurrent_dropout=0.2))\n",
    "    model.add(LSTM(264, dropout=0.3, recurrent_dropout=0.2))\n",
    "    model.add(Dense(9, activation='softmax'))\n",
    "    model.compile(loss='categorical_crossentropy', optimizer='adam', metrics=['accuracy'])\n",
    "    model.summary()\n",
    "    \n",
    "    y = pd.get_dummies(data[col]).values\n",
    "    \n",
    "    # split X, y into training and testing \n",
    "    X_train, X_test, y_train, y_test = train_test_split(X, y, test_size=0.2, random_state=0)\n",
    "    \n",
    "    return model, X_train, X_test, y_train, y_test\n",
    "\n",
    "v1_model, v1_xtrain, v1_xtest, v1_ytrain, v1_ytest = get_model('Valence1')\n",
    "a1_model, a1_xtrain, a1_xtest, a1_ytrain, a1_ytest = get_model('Arousal1')"
   ]
  },
  {
   "cell_type": "markdown",
   "id": "e7e2dd15",
   "metadata": {},
   "source": [
    "Training Model(s)\n",
    "\n",
    "To-Do:\n",
    "- Train new valence and arousal models (takes about 10ish minutes per model)"
   ]
  },
  {
   "cell_type": "code",
   "execution_count": 27,
   "id": "915aead6",
   "metadata": {
    "scrolled": false
   },
   "outputs": [
    {
     "name": "stdout",
     "output_type": "stream",
     "text": [
      "Model: \"sequential_1\"\n",
      "_________________________________________________________________\n",
      " Layer (type)                Output Shape              Param #   \n",
      "=================================================================\n",
      " embedding_1 (Embedding)     (None, 148, 64)           320000    \n",
      "                                                                 \n",
      " dropout_1 (Dropout)         (None, 148, 64)           0         \n",
      "                                                                 \n",
      " lstm_2 (LSTM)               (None, 148, 64)           33024     \n",
      "                                                                 \n",
      " lstm_3 (LSTM)               (None, 264)               347424    \n",
      "                                                                 \n",
      " dense_1 (Dense)             (None, 9)                 2385      \n",
      "                                                                 \n",
      "=================================================================\n",
      "Total params: 702,833\n",
      "Trainable params: 702,833\n",
      "Non-trainable params: 0\n",
      "_________________________________________________________________\n",
      "Epoch 1/8\n",
      "73/73 - 42s - loss: 1.5425 - accuracy: 0.3510 - 42s/epoch - 570ms/step\n",
      "Epoch 2/8\n",
      "73/73 - 39s - loss: 1.4470 - accuracy: 0.4024 - 39s/epoch - 528ms/step\n",
      "Epoch 3/8\n",
      "73/73 - 40s - loss: 1.2747 - accuracy: 0.5017 - 40s/epoch - 542ms/step\n",
      "Epoch 4/8\n",
      "73/73 - 41s - loss: 1.0921 - accuracy: 0.5760 - 41s/epoch - 566ms/step\n",
      "Epoch 5/8\n",
      "73/73 - 41s - loss: 0.9626 - accuracy: 0.6343 - 41s/epoch - 561ms/step\n",
      "Epoch 6/8\n",
      "73/73 - 41s - loss: 0.8370 - accuracy: 0.6965 - 41s/epoch - 562ms/step\n",
      "Epoch 7/8\n",
      "73/73 - 41s - loss: 0.7016 - accuracy: 0.7582 - 41s/epoch - 558ms/step\n",
      "Epoch 8/8\n",
      "73/73 - 40s - loss: 0.6203 - accuracy: 0.7858 - 40s/epoch - 554ms/step\n"
     ]
    }
   ],
   "source": [
    "def train_model(model, X, y):\n",
    "    batch_size = 32\n",
    "    epochs = 8\n",
    "    model.fit(X, y, epochs=epochs, batch_size=batch_size, verbose=2)\n",
    "    return model\n",
    "\n",
    "# v1_model.summary()\n",
    "# v1_model = train_model(v1_model, v1_xtrain, v1_ytrain)\n",
    "# v1_model.save('valence1_analysis.h5')\n",
    "\n",
    "a1_model.summary()\n",
    "a1_model = train_model(a1_model, a1_xtrain, a1_ytrain)\n",
    "a1_model.save('arousal1_analysis.h5')"
   ]
  },
  {
   "cell_type": "markdown",
   "id": "99a97cb8",
   "metadata": {},
   "source": [
    "Testing Model\n",
    "\n",
    "To-Do:\n",
    "- Test new valence and arousal models"
   ]
  },
  {
   "cell_type": "code",
   "execution_count": 31,
   "id": "ae75bd62",
   "metadata": {
    "scrolled": true
   },
   "outputs": [
    {
     "name": "stdout",
     "output_type": "stream",
     "text": [
      "Valence1 model has an accuracy of 44.39%\n",
      "Valence1 model has a correlation coefficient of 0.34\n"
     ]
    },
    {
     "data": {
      "image/png": "[encoded data removed]",
      "text/plain": [
       "<Figure size 432x288 with 2 Axes>"
      ]
     },
     "metadata": {
      "needs_background": "light"
     },
     "output_type": "display_data"
    }
   ],
   "source": [
    "def test_model(col, model, X_test, y_test):\n",
    "    # make predictions\n",
    "    predictions = model.predict(X_test)\n",
    "    \n",
    "    # establish confusion matrix\n",
    "    confusion = np.zeros([9,9])\n",
    "    correct = 0\n",
    "    total = 0\n",
    "    pred_vals = []\n",
    "    actual_vals = []\n",
    "    for i, prediction in enumerate(predictions):\n",
    "        total += 1\n",
    "        guess_i = np.argmax(prediction)\n",
    "        actual_i = np.argmax(y_test[i])\n",
    "        confusion[actual_i][guess_i] += 1\n",
    "        if guess_i == actual_i:\n",
    "            correct += 1\n",
    "        pred_vals.append(guess_i + 1)\n",
    "        actual_vals.append(actual_i + 1)\n",
    "    \n",
    "    # Correlation coefficient is used as a metric in the original paper\n",
    "    # Our values seem to be lower than the values generated in the paper itself;\n",
    "    # however, it seems that our r-val is generally comparable to the other\n",
    "    # methods listed in table 4 of the original paper.\n",
    "    r_val = scipy.stats.pearsonr(pred_vals, actual_vals)[0]\n",
    "    acc = correct/total * 100\n",
    "    \n",
    "    print('%s model has an accuracy of %.2f%%' % (col, acc))\n",
    "    print('%s model has a correlation coefficient of %.2f' % (col, r_val))\n",
    "    \n",
    "    # normalize confusion matrix\n",
    "    for i in range(0, 9):\n",
    "        sum = confusion[i].sum()\n",
    "        if sum > 0:\n",
    "            confusion[i] = confusion[i] / sum\n",
    "\n",
    "    # plot results\n",
    "    fig = plt.figure()\n",
    "    ax = fig.add_subplot(111)\n",
    "    cax = ax.matshow(confusion)\n",
    "    fig.colorbar(cax)\n",
    "    \n",
    "    categories = [1, 2, 3, 4, 5, 6, 7, 8, 9]\n",
    "    ax.set_xticklabels([''] + categories, rotation=90)\n",
    "    ax.set_yticklabels([''] + categories)\n",
    "    ax.xaxis.set_major_locator(ticker.MultipleLocator(1))\n",
    "    ax.yaxis.set_major_locator(ticker.MultipleLocator(1))\n",
    "    \n",
    "    plt.xlabel('model output')\n",
    "    plt.ylabel('actual')\n",
    "    plt.title(col)\n",
    "    \n",
    "    plt.show()\n",
    "    \n",
    "# make and plot predictions\n",
    "test_model('Valence1', v1_model, v1_xtest, v1_ytest)"
   ]
  }
 ],
 "metadata": {
  "kernelspec": {
   "display_name": "Python 3",
   "language": "python",
   "name": "python3"
  },
  "language_info": {
   "codemirror_mode": {
    "name": "ipython",
    "version": 3
   },
   "file_extension": ".py",
   "mimetype": "text/x-python",
   "name": "python",
   "nbconvert_exporter": "python",
   "pygments_lexer": "ipython3",
   "version": "3.8.8"
  }
 },
 "nbformat": 4,
 "nbformat_minor": 5
}
