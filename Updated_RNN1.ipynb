{
  "cells": [
    {
      "cell_type": "code",
      "execution_count": 1,
      "id": "13d13afd",
      "metadata": {
        "colab": {
          "base_uri": "https://localhost:8080/"
        },
        "id": "13d13afd",
        "outputId": "c252e356-b2be-4319-84b9-b0d51fd59072"
      },
      "outputs": [
        {
          "name": "stderr",
          "output_type": "stream",
          "text": [
            "[nltk_data] Downloading package stopwords to\n",
            "[nltk_data]     C:\\Users\\Nathan\\AppData\\Roaming\\nltk_data...\n",
            "[nltk_data]   Unzipping corpora\\stopwords.zip.\n"
          ]
        }
      ],
      "source": [
        "#setup\n",
        "# sdir=\"/content/drive/My Drive/\"\n",
        "\n",
        "# import os\n",
        "# from google.colab import drive\n",
        "# drive.mount('/content/drive/')\n",
        "# os.chdir(\"/content/drive/My Drive/Colab Notebooks/NLP_Project/\")\n",
        "\n",
        "import re\n",
        "import numpy as np\n",
        "import pandas as pd\n",
        "import matplotlib.ticker as ticker\n",
        "import warnings\n",
        "import scipy.stats\n",
        "from sklearn.model_selection import train_test_split\n",
        "import matplotlib.pyplot as plt\n",
        "from keras.models import Sequential, load_model\n",
        "from keras.layers import Dense, LSTM, Embedding, Dropout\n",
        "from keras.preprocessing.text import Tokenizer\n",
        "from keras.preprocessing.sequence import pad_sequences\n",
        "import tensorflow as tf\n",
        "from nltk.corpus import stopwords\n",
        "from time import sleep\n",
        "import sys\n",
        "from sklearn.metrics import confusion_matrix\n",
        "from sklearn.metrics import accuracy_score\n",
        "from sklearn.metrics import f1_score\n",
        "from sklearn.metrics import roc_auc_score \n",
        "from sklearn.metrics import average_precision_score\n",
        "from sklearn.metrics import recall_score\n",
        "from sklearn.metrics import r2_score\n",
        "import nltk\n",
        "nltk.download('stopwords')\n",
        "\n",
        "warnings.filterwarnings('ignore')"
      ]
    },
    {
      "cell_type": "markdown",
      "id": "c5fb40d2",
      "metadata": {
        "id": "c5fb40d2"
      },
      "source": [
        "Load and Process Dataset\n",
        "\n",
        "To-do: (DONE - averaged the columns and put them back into Valence1 and Arousal1, needed to round down the values due to labels needing to be integers)\n",
        "- Average columns in spreadsheet to form a cohesive valence and arousal score\n",
        "- Read in new columns"
      ]
    },
    {
      "cell_type": "code",
      "execution_count": 2,
      "id": "7f392edb",
      "metadata": {
        "id": "7f392edb",
        "scrolled": true
      },
      "outputs": [],
      "source": [
        "headers = ['Anonymized Message', 'Valence1', 'Valence2', 'Arousal1', 'Arousal2']\n",
        "dtypes = {'Anonymized Message':'str', 'Valence1':'float', 'Valence2':'float', 'Arousal1':'float', 'Arousal2':'float'}\n",
        "data = pd.read_csv(\"dataset-fb-valence-arousal-anon.csv\", encoding='utf8', skiprows=[0], names=headers, dtype=dtypes, na_filter=False)\n",
        "data['Valence1'] = (data.Valence1 + data.Valence2) // 2 + 1\n",
        "data['Arousal1'] = (data.Arousal1 + data.Arousal2) // 2 + 1\n",
        "data = data.sample(frac=1).reset_index(drop=True)"
      ]
    },
    {
      "cell_type": "markdown",
      "id": "e8d2a5c1",
      "metadata": {
        "id": "e8d2a5c1"
      },
      "source": [
        "Pre-processing"
      ]
    },
    {
      "cell_type": "code",
      "execution_count": 3,
      "id": "320431b2",
      "metadata": {
        "id": "320431b2",
        "scrolled": true
      },
      "outputs": [],
      "source": [
        "# set all words to lowercase and remove anything that isn't a letter or space\n",
        "data['Anonymized Message'] = data['Anonymized Message'].apply(lambda x: x.lower()) #transform text to lowercase\n",
        "data['Anonymized Message'] = data['Anonymized Message'].apply(lambda x: re.sub('[^a-zA-z0-9\\s]', '', x))\n",
        "\n",
        "# find and remove all stop words\n",
        "stop = stopwords.words('english')\n",
        "data['Anonymized Message'] = data['Anonymized Message'].apply(lambda x: ' '.join([word for word in x.split() if word not in (stop)]))"
      ]
    },
    {
      "cell_type": "markdown",
      "id": "3605fea6",
      "metadata": {
        "id": "3605fea6"
      },
      "source": [
        "Creating Model(s)\n",
        "\n",
        "To-Do\n",
        "- Define and train model for arousal (Done)\n",
        "- Redefine valence model once valence columns are merged for input (Done)"
      ]
    },
    {
      "cell_type": "code",
      "execution_count": 6,
      "id": "dace10e1",
      "metadata": {
        "colab": {
          "base_uri": "https://localhost:8080/"
        },
        "id": "dace10e1",
        "outputId": "3a9f4429-ba86-4e62-fbbd-f9043f8f8f69",
        "scrolled": true
      },
      "outputs": [
        {
          "name": "stdout",
          "output_type": "stream",
          "text": [
            "Model: \"sequential_2\"\n",
            "_________________________________________________________________\n",
            " Layer (type)                Output Shape              Param #   \n",
            "=================================================================\n",
            " embedding_2 (Embedding)     (None, 100, 64)           384000    \n",
            "                                                                 \n",
            " dropout_2 (Dropout)         (None, 100, 64)           0         \n",
            "                                                                 \n",
            " lstm_4 (LSTM)               (None, 100, 64)           33024     \n",
            "                                                                 \n",
            " lstm_5 (LSTM)               (None, 264)               347424    \n",
            "                                                                 \n",
            " dense_2 (Dense)             (None, 9)                 2385      \n",
            "                                                                 \n",
            "=================================================================\n",
            "Total params: 766,833\n",
            "Trainable params: 766,833\n",
            "Non-trainable params: 0\n",
            "_________________________________________________________________\n",
            "Model: \"sequential_3\"\n",
            "_________________________________________________________________\n",
            " Layer (type)                Output Shape              Param #   \n",
            "=================================================================\n",
            " embedding_3 (Embedding)     (None, 100, 64)           384000    \n",
            "                                                                 \n",
            " dropout_3 (Dropout)         (None, 100, 64)           0         \n",
            "                                                                 \n",
            " lstm_6 (LSTM)               (None, 100, 64)           33024     \n",
            "                                                                 \n",
            " lstm_7 (LSTM)               (None, 264)               347424    \n",
            "                                                                 \n",
            " dense_3 (Dense)             (None, 9)                 2385      \n",
            "                                                                 \n",
            "=================================================================\n",
            "Total params: 766,833\n",
            "Trainable params: 766,833\n",
            "Non-trainable params: 0\n",
            "_________________________________________________________________\n"
          ]
        }
      ],
      "source": [
        "def get_model(col):\n",
        "    # setup a tokenizer to keep the most frequent 5000 words\n",
        "    tokenizer = Tokenizer(num_words=6000, split=\" \")\n",
        "    tokenizer.fit_on_texts(data['Anonymized Message'].values)\n",
        "    \n",
        "    # define input X\n",
        "    X = tokenizer.texts_to_sequences(data['Anonymized Message'].values)\n",
        "    X = pad_sequences(X) # padding our text vector so they all have the same length\n",
        "    \n",
        "    # define expected output for training and testing\n",
        "    y = pd.get_dummies(data[col]).values\n",
        "    \n",
        "    # setup and establish model with 9 outputs\n",
        "    # output will be an array of length 9. \n",
        "    # the highest output value corresponds to the model's guess\n",
        "    model = Sequential()\n",
        "    model.add(Embedding(6000, 64, input_length=X.shape[1]))\n",
        "    model.add(Dropout(0.3))\n",
        "    model.add(LSTM(64, return_sequences=True, dropout=0.3, recurrent_dropout=0.2))\n",
        "    model.add(LSTM(264, dropout=0.3, recurrent_dropout=0.2))\n",
        "    model.add(Dense(9, activation='softmax'))\n",
        "    model.compile(loss='categorical_crossentropy', optimizer='adam', metrics=['accuracy'])\n",
        "    model.summary()\n",
        "    \n",
        "    y = pd.get_dummies(data[col]).values\n",
        "    \n",
        "    # split X, y into training and testing \n",
        "    X_train, X_test, y_train, y_test = train_test_split(X, y, test_size=0.2, random_state=0)\n",
        "    \n",
        "    return model, X_train, X_test, y_train, y_test\n",
        "\n",
        "v1_model, v1_xtrain, v1_xtest, v1_ytrain, v1_ytest = get_model('Valence1')\n",
        "a1_model, a1_xtrain, a1_xtest, a1_ytrain, a1_ytest = get_model('Arousal1')"
      ]
    },
    {
      "cell_type": "markdown",
      "id": "e7e2dd15",
      "metadata": {
        "id": "e7e2dd15"
      },
      "source": [
        "Training Model(s)\n",
        "\n",
        "To-Do:\n",
        "- Train new valence and arousal models (takes about 5ish minutes per model) (Done)\n",
        "- Consider if more epochs would be useful. Training would take longer but might yield better results (More epochs did not yield better results)"
      ]
    },
    {
      "cell_type": "code",
      "execution_count": 7,
      "id": "915aead6",
      "metadata": {
        "colab": {
          "base_uri": "https://localhost:8080/"
        },
        "id": "915aead6",
        "outputId": "9d5cc4d2-55f7-41fa-d8eb-1085b10d161e",
        "scrolled": false
      },
      "outputs": [
        {
          "name": "stdout",
          "output_type": "stream",
          "text": [
            "Model: \"sequential_2\"\n",
            "_________________________________________________________________\n",
            " Layer (type)                Output Shape              Param #   \n",
            "=================================================================\n",
            " embedding_2 (Embedding)     (None, 100, 64)           384000    \n",
            "                                                                 \n",
            " dropout_2 (Dropout)         (None, 100, 64)           0         \n",
            "                                                                 \n",
            " lstm_4 (LSTM)               (None, 100, 64)           33024     \n",
            "                                                                 \n",
            " lstm_5 (LSTM)               (None, 264)               347424    \n",
            "                                                                 \n",
            " dense_2 (Dense)             (None, 9)                 2385      \n",
            "                                                                 \n",
            "=================================================================\n",
            "Total params: 766,833\n",
            "Trainable params: 766,833\n",
            "Non-trainable params: 0\n",
            "_________________________________________________________________\n",
            "Epoch 1/8\n",
            "579/579 [==============================] - 162s 274ms/step - loss: 1.6024 - accuracy: 0.3882\n",
            "Epoch 2/8\n",
            "579/579 [==============================] - 170s 294ms/step - loss: 1.4065 - accuracy: 0.4711\n",
            "Epoch 3/8\n",
            "579/579 [==============================] - 178s 308ms/step - loss: 1.1125 - accuracy: 0.5816\n",
            "Epoch 4/8\n",
            "579/579 [==============================] - 177s 305ms/step - loss: 0.8645 - accuracy: 0.6731\n",
            "Epoch 5/8\n",
            "579/579 [==============================] - 175s 302ms/step - loss: 0.6806 - accuracy: 0.7560\n",
            "Epoch 6/8\n",
            "579/579 [==============================] - 178s 307ms/step - loss: 0.5551 - accuracy: 0.7971\n",
            "Epoch 7/8\n",
            "579/579 [==============================] - 201s 347ms/step - loss: 0.4876 - accuracy: 0.8221\n",
            "Epoch 8/8\n",
            "579/579 [==============================] - 209s 361ms/step - loss: 0.4080 - accuracy: 0.8541\n",
            "Model: \"sequential_3\"\n",
            "_________________________________________________________________\n",
            " Layer (type)                Output Shape              Param #   \n",
            "=================================================================\n",
            " embedding_3 (Embedding)     (None, 100, 64)           384000    \n",
            "                                                                 \n",
            " dropout_3 (Dropout)         (None, 100, 64)           0         \n",
            "                                                                 \n",
            " lstm_6 (LSTM)               (None, 100, 64)           33024     \n",
            "                                                                 \n",
            " lstm_7 (LSTM)               (None, 264)               347424    \n",
            "                                                                 \n",
            " dense_3 (Dense)             (None, 9)                 2385      \n",
            "                                                                 \n",
            "=================================================================\n",
            "Total params: 766,833\n",
            "Trainable params: 766,833\n",
            "Non-trainable params: 0\n",
            "_________________________________________________________________\n",
            "Epoch 1/8\n",
            "579/579 [==============================] - 202s 343ms/step - loss: 1.9168 - accuracy: 0.2655\n",
            "Epoch 2/8\n",
            "579/579 [==============================] - 199s 344ms/step - loss: 1.8080 - accuracy: 0.3212\n",
            "Epoch 3/8\n",
            "579/579 [==============================] - 203s 351ms/step - loss: 1.6046 - accuracy: 0.3998\n",
            "Epoch 4/8\n",
            "579/579 [==============================] - 197s 341ms/step - loss: 1.3774 - accuracy: 0.4965\n",
            "Epoch 5/8\n",
            "579/579 [==============================] - 195s 337ms/step - loss: 1.1617 - accuracy: 0.5833\n",
            "Epoch 6/8\n",
            "579/579 [==============================] - 185s 319ms/step - loss: 0.9842 - accuracy: 0.6425\n",
            "Epoch 7/8\n",
            "579/579 [==============================] - 182s 314ms/step - loss: 0.8023 - accuracy: 0.7185\n",
            "Epoch 8/8\n",
            "579/579 [==============================] - 179s 309ms/step - loss: 0.6589 - accuracy: 0.7737\n"
          ]
        }
      ],
      "source": [
        "def train_model(model, X, y):\n",
        "    batch_size = 4\n",
        "    epochs = 8\n",
        "    model.fit(X, y, epochs=epochs, batch_size=batch_size, verbose=1)\n",
        "    return model\n",
        "\n",
        "v1_model.summary()\n",
        "v1_model = train_model(v1_model, v1_xtrain, v1_ytrain)\n",
        "v1_model.save('valence1_analysis.h5')\n",
        "\n",
        "a1_model.summary()\n",
        "a1_model = train_model(a1_model, a1_xtrain, a1_ytrain)\n",
        "a1_model.save('arousal1_analysis.h5')"
      ]
    },
    {
      "cell_type": "markdown",
      "id": "99a97cb8",
      "metadata": {
        "id": "99a97cb8"
      },
      "source": [
        "Testing Model\n",
        "\n",
        "To-Do:\n",
        "- Test new valence and arousal models (Done)"
      ]
    },
    {
      "cell_type": "code",
      "execution_count": 9,
      "id": "ae75bd62",
      "metadata": {
        "colab": {
          "base_uri": "https://localhost:8080/",
          "height": 217
        },
        "id": "ae75bd62",
        "outputId": "4a667642-841f-461d-c327-97d3f63ae836",
        "scrolled": true
      },
      "outputs": [
        {
          "name": "stdout",
          "output_type": "stream",
          "text": [
            "Valence1 model has an accuracy of 37.48%\n",
            "Valence1 model has a correlation coefficient of 0.33\n",
            "F1-score macro:  0.23021423744818953\n",
            "F1-score micro:  0.3747841105354059\n",
            "F1-score weighted:  0.36310263662405373\n",
            "R2-score:  -0.1241476196489455\n"
          ]
        },
        {
          "data": {
            "image/png": "[encoded data removed]",
            "text/plain": [
              "<Figure size 432x288 with 2 Axes>"
            ]
          },
          "metadata": {
            "needs_background": "light"
          },
          "output_type": "display_data"
        },
        {
          "data": {
            "image/png": "[encoded data removed]",
            "text/plain": [
              "<Figure size 432x288 with 2 Axes>"
            ]
          },
          "metadata": {
            "needs_background": "light"
          },
          "output_type": "display_data"
        },
        {
          "name": "stdout",
          "output_type": "stream",
          "text": [
            "Arousal1 model has an accuracy of 26.25%\n",
            "Arousal1 model has a correlation coefficient of 0.17\n",
            "F1-score macro:  0.1432489290298416\n",
            "F1-score micro:  0.26252158894645944\n",
            "F1-score weighted:  0.2534943532124254\n",
            "R2-score:  -0.4462312148274241\n"
          ]
        },
        {
          "data": {
            "image/png": "[encoded data removed]",
            "text/plain": [
              "<Figure size 432x288 with 2 Axes>"
            ]
          },
          "metadata": {
            "needs_background": "light"
          },
          "output_type": "display_data"
        },
        {
          "data": {
            "image/png": "[encoded data removed]",
            "text/plain": [
              "<Figure size 432x288 with 2 Axes>"
            ]
          },
          "metadata": {
            "needs_background": "light"
          },
          "output_type": "display_data"
        }
      ],
      "source": [
        "def test_model(col, model, X_test, y_test):\n",
        "    # make predictions\n",
        "    predictions = model.predict(X_test)\n",
        "    \n",
        "    # establish confusion matrix\n",
        "    confusion = np.zeros([9,9])\n",
        "    confusionA = np.zeros([9,9])\n",
        "    correct = 0\n",
        "    total = 0\n",
        "    pred_vals = []\n",
        "    actual_vals = []\n",
        "    for i, prediction in enumerate(predictions):\n",
        "        total += 1\n",
        "        guess_i = np.argmax(prediction)\n",
        "        actual_i = np.argmax(y_test[i])\n",
        "        confusion[actual_i][guess_i] += 1\n",
        "        if guess_i == actual_i:\n",
        "            correct += 1\n",
        "            confusionA[actual_i][guess_i] += 1\n",
        "        pred_vals.append(guess_i + 1)\n",
        "        actual_vals.append(actual_i + 1)\n",
        "\n",
        "    # Correlation coefficient is used as a metric in the original paper\n",
        "    # Our values seem to be lower than the values generated in the paper itself;\n",
        "    # however, it seems that our valence r-val is generally comparable to the other\n",
        "    # methods listed in table 4 of the original paper.\n",
        "    r_val = scipy.stats.pearsonr(pred_vals, actual_vals)[0]\n",
        "    acc = correct/total * 100\n",
        "\n",
        "    print('%s model has an accuracy of %.2f%%' % (col, acc))\n",
        "    print('%s model has a correlation coefficient of %.2f' % (col, r_val))\n",
        "    print('F1-score macro: ', f1_score(actual_vals, pred_vals, average='macro'))\n",
        "    print('F1-score micro: ', f1_score(actual_vals, pred_vals, average='micro'))\n",
        "    print('F1-score weighted: ', f1_score(actual_vals, pred_vals, average='weighted'))\n",
        "    print('R2-score: ', r2_score(actual_vals, pred_vals))\n",
        "    \n",
        "    # normalize confusion matrix\n",
        "    for i in range(0, 9):\n",
        "        sum = confusion[i].sum()\n",
        "        if sum > 0:\n",
        "            confusion[i] = confusion[i] / sum\n",
        "       \n",
        "\n",
        "    # plot results\n",
        "    fig = plt.figure()\n",
        "    ax = fig.add_subplot(111)\n",
        "    cax = ax.matshow(confusion)\n",
        "    fig.colorbar(cax)\n",
        "    \n",
        "    categories = [1, 2, 3, 4, 5, 6, 7, 8, 9]\n",
        "    ax.set_xticklabels([''] + categories, rotation=90)\n",
        "    ax.set_yticklabels([''] + categories)\n",
        "    ax.xaxis.set_major_locator(ticker.MultipleLocator(1))\n",
        "    ax.yaxis.set_major_locator(ticker.MultipleLocator(1))\n",
        "    \n",
        "    plt.xlabel('model output')\n",
        "    plt.ylabel('actual')\n",
        "    plt.title(col)\n",
        "    \n",
        "    plt.show()\n",
        "\n",
        "    \n",
        "    # plot results\n",
        "    fig = plt.figure()\n",
        "    ax = fig.add_subplot(111)\n",
        "    cax = ax.matshow(confusionA)\n",
        "    fig.colorbar(cax)\n",
        "    \n",
        "    categories = [1, 2, 3, 4, 5, 6, 7, 8, 9]\n",
        "    ax.set_xticklabels([''] + categories, rotation=90)\n",
        "    ax.set_yticklabels([''] + categories)\n",
        "    ax.xaxis.set_major_locator(ticker.MultipleLocator(1))\n",
        "    ax.yaxis.set_major_locator(ticker.MultipleLocator(1))\n",
        "    \n",
        "    plt.xlabel('model output')\n",
        "    plt.ylabel('actual')\n",
        "    plt.title(col)\n",
        "    \n",
        "    plt.show()\n",
        "    \n",
        "# make and plot predictions\n",
        "test_model('Valence1', v1_model, v1_xtest, v1_ytest)\n",
        "test_model('Arousal1', a1_model, a1_xtest, a1_ytest)"
      ]
    }
  ],
  "metadata": {
    "accelerator": "GPU",
    "colab": {
      "collapsed_sections": [],
      "name": "Updated RNN.ipynb",
      "provenance": []
    },
    "kernelspec": {
      "display_name": "Python 3",
      "language": "python",
      "name": "python3"
    },
    "language_info": {
      "codemirror_mode": {
        "name": "ipython",
        "version": 3
      },
      "file_extension": ".py",
      "mimetype": "text/x-python",
      "name": "python",
      "nbconvert_exporter": "python",
      "pygments_lexer": "ipython3",
      "version": "3.9.7"
    }
  },
  "nbformat": 4,
  "nbformat_minor": 5
}
